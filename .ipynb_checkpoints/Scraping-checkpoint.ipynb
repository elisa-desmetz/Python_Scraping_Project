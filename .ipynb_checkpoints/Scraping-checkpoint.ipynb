{
 "cells": [
  {
   "cell_type": "code",
   "execution_count": 14,
   "id": "adverse-hudson",
   "metadata": {},
   "outputs": [],
   "source": [
    "from selenium import webdriver\n",
    "from selenium.webdriver.chrome.service import Service\n",
    "from selenium.webdriver.common.by import By\n",
    "\n",
    "import time"
   ]
  },
  {
   "cell_type": "code",
   "execution_count": 79,
   "id": "appropriate-parish",
   "metadata": {},
   "outputs": [],
   "source": [
    "s=Service('./app/static/ressources/chromedriver.exe')\n",
    "\n",
    "## Images won't load in the webdriver to prevent wasting resources\n",
    "option = webdriver.ChromeOptions()\n",
    "chrome_prefs = {}\n",
    "option.experimental_options[\"prefs\"] = chrome_prefs\n",
    "chrome_prefs['profile.default_content_settings'] = {'images': 2}\n",
    "chrome_prefs['profile.managed_default_content_settings'] = {'images': 2}\n",
    "\n",
    "## Variables\n",
    "main_url = 'https://www.dofus.com/fr/mmorpg/communaute/ladder'\n",
    "ladders_name = ['ak-section-general','ak-section-kolizeum','ak-section-success']\n",
    "server_id = 'servers_222'\n",
    "ladder_category_pvp_id = ['type_solo','type_duel']"
   ]
  },
  {
   "cell_type": "code",
   "execution_count": 83,
   "id": "indian-forest",
   "metadata": {},
   "outputs": [],
   "source": [
    "def open_ladder(category):\n",
    "    ## Open browser in 1920x1080\n",
    "    browser = webdriver.Chrome(service=s, options=option)\n",
    "    browser.set_window_size(1920,1080)\n",
    "    ## Access main menu URL\n",
    "    browser.get(main_url)\n",
    "    time.sleep(1.5)\n",
    "    close_cookie = browser.find_element(By.CLASS_NAME, \"ak-refuse\").click()\n",
    "    time.sleep(1.5)\n",
    "    access_ladder = browser.find_element(By.CLASS_NAME, category).click()\n",
    "    \n",
    "def filter_ladder(category, filter_id):\n",
    "    filter_server = browser.find_element(By.ID,filter_id).click()\n",
    "        "
   ]
  },
  {
   "cell_type": "code",
   "execution_count": 84,
   "id": "ancient-italian",
   "metadata": {},
   "outputs": [],
   "source": [
    "def access_data(category, filter_id):\n",
    "    open_ladder(category)\n",
    "    time.sleep(0.5)\n",
    "    filter_ladder(category, filter_id)"
   ]
  },
  {
   "cell_type": "code",
   "execution_count": null,
   "id": "ceramic-hostel",
   "metadata": {},
   "outputs": [],
   "source": [
    "access_data(ladders_name[0],server_id)"
   ]
  }
 ],
 "metadata": {
  "kernelspec": {
   "display_name": "Python 3",
   "language": "python",
   "name": "python3"
  },
  "language_info": {
   "codemirror_mode": {
    "name": "ipython",
    "version": 3
   },
   "file_extension": ".py",
   "mimetype": "text/x-python",
   "name": "python",
   "nbconvert_exporter": "python",
   "pygments_lexer": "ipython3",
   "version": "3.8.0"
  }
 },
 "nbformat": 4,
 "nbformat_minor": 5
}
