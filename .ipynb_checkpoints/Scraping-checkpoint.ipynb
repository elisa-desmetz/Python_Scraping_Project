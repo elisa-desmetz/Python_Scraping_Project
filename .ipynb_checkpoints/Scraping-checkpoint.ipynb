{
 "cells": [
  {
   "cell_type": "code",
   "execution_count": 131,
   "id": "variable-handbook",
   "metadata": {},
   "outputs": [],
   "source": [
    "from selenium import webdriver\n",
    "from selenium.webdriver.chrome.service import Service\n",
    "from selenium.webdriver.common.by import By\n",
    "\n",
    "import pandas as pd\n",
    "\n",
    "import time"
   ]
  },
  {
   "cell_type": "code",
   "execution_count": 91,
   "id": "obvious-mileage",
   "metadata": {},
   "outputs": [],
   "source": [
    "s=Service('./app/static/ressources/chromedriver.exe')\n",
    "\n",
    "## Images won't load in the webdriver to prevent wasting resources\n",
    "option = webdriver.ChromeOptions()\n",
    "chrome_prefs = {}\n",
    "option.experimental_options[\"prefs\"] = chrome_prefs\n",
    "chrome_prefs['profile.default_content_settings'] = {'images': 2}\n",
    "chrome_prefs['profile.managed_default_content_settings'] = {'images': 2}\n",
    "\n",
    "## Variables\n",
    "main_url = 'https://www.dofus.com/fr/mmorpg/communaute/ladder'\n",
    "ladder_xp = {'class_name' : 'ak-section-general',\n",
    "            'filter_id':'servers_222'}\n",
    "ladder_success = {'class_name' : 'ak-section-success',\n",
    "            'filter_id':'servers_222'}\n",
    "ladder_pvp_solo = {'class_name' : 'ak-section-kolizeum',\n",
    "            'filter_id':'type_solo'}\n",
    "ladder_pvp_duel = {'class_name' : 'ak-section-kolizeum',\n",
    "            'filter_id':'type_duel'}\n",
    "df= pd.DataFrame()"
   ]
  },
  {
   "cell_type": "code",
   "execution_count": 190,
   "id": "focal-lunch",
   "metadata": {},
   "outputs": [],
   "source": [
    "def open_ladder(browser, category):\n",
    "    time.sleep(0.5)\n",
    "    close_cookie = browser.find_element(By.CLASS_NAME, \"ak-refuse\").click()\n",
    "    time.sleep(1.5)\n",
    "    access_ladder = browser.find_element(By.CLASS_NAME, category['class_name']).click()\n",
    "    \n",
    "def filter_ladder(browser, category):\n",
    "    time.sleep(1.5)\n",
    "    filter_server = browser.find_element(By.ID,category['filter_id']).click()\n",
    "    \n",
    "def extract_data(browser, df):\n",
    "    cols = []\n",
    "    for col in browser.find_elements(By.XPATH,\"//table[contains(@class, 'ak-ladder')]/thead/tr/th\"):\n",
    "        cols.append(col.text)\n",
    "    print (cols)\n",
    "    time.sleep(1.5)\n",
    "    data = []\n",
    "    num_rows = len (browser.find_elements(By.XPATH,\"//table[contains(@class, 'ak-ladder')]/tbody/tr\"))\n",
    "    for row in range(num_rows):\n",
    "        row_data=[]\n",
    "        for col in browser.find_elements(By.XPATH,\"//table[contains(@class, 'ak-ladder')]/tbody/tr[\"+str(row)+\"]/td\"):\n",
    "            row_data.append(col.text)\n",
    "        if row_data!=[]:\n",
    "            data.append(row_data)\n",
    "    df = df.append(pd.DataFrame(data, columns=cols))"
   ]
  },
  {
   "cell_type": "code",
   "execution_count": 122,
   "id": "narrative-operations",
   "metadata": {},
   "outputs": [],
   "source": [
    "def access_data(category):\n",
    "    ## Open browser in fullscreen\n",
    "    browser = webdriver.Chrome(service=s, options=option)\n",
    "    browser.maximize_window()\n",
    "    \n",
    "    ## Access main menu URL\n",
    "    browser.get(main_url)\n",
    "    \n",
    "    open_ladder(browser, category)\n",
    "    filter_ladder(browser, category)\n",
    "    extract_data(browser)\n",
    "    browser.quit()"
   ]
  },
  {
   "cell_type": "code",
   "execution_count": 189,
   "id": "commercial-attack",
   "metadata": {},
   "outputs": [
    {
     "name": "stdout",
     "output_type": "stream",
     "text": [
      "['#', 'Nom', 'Classe', 'Niveau', 'Serveur', 'XP sur 24h', 'XP Total']\n",
      "   #                 Nom    Classe     Niveau    Serveur XP sur 24h  \\\n",
      "0  1         Not-Specter  Osamodas  Omega 605  Ilyzaelle          0   \n",
      "1  2               Mansz  Sacrieur  Omega 596  Ilyzaelle          0   \n",
      "2  3              ******   Pandawa  Omega 590  Ilyzaelle          0   \n",
      "3  4             Zolttan   Pandawa  Omega 582  Ilyzaelle          0   \n",
      "4  5  Alleria-Windrunner       Cra  Omega 581  Ilyzaelle          0   \n",
      "\n",
      "            XP Total  \n",
      "0  2 072 415 695 359  \n",
      "1  1 893 993 797 674  \n",
      "2  1 778 423 443 050  \n",
      "3  1 648 979 010 781  \n",
      "4  1 623 448 669 995  \n"
     ]
    },
    {
     "ename": "NameError",
     "evalue": "name 'df' is not defined",
     "output_type": "error",
     "traceback": [
      "\u001b[1;31m---------------------------------------------------------------------------\u001b[0m",
      "\u001b[1;31mNameError\u001b[0m                                 Traceback (most recent call last)",
      "\u001b[1;32m<ipython-input-189-1c8a17fe836b>\u001b[0m in \u001b[0;36m<module>\u001b[1;34m\u001b[0m\n\u001b[0;32m      1\u001b[0m \u001b[0maccess_data\u001b[0m\u001b[1;33m(\u001b[0m\u001b[0mladder_xp\u001b[0m\u001b[1;33m)\u001b[0m\u001b[1;33m\u001b[0m\u001b[1;33m\u001b[0m\u001b[0m\n\u001b[1;32m----> 2\u001b[1;33m \u001b[0mdf\u001b[0m\u001b[1;33m.\u001b[0m\u001b[0mhead\u001b[0m\u001b[1;33m(\u001b[0m\u001b[1;33m)\u001b[0m\u001b[1;33m\u001b[0m\u001b[1;33m\u001b[0m\u001b[0m\n\u001b[0m",
      "\u001b[1;31mNameError\u001b[0m: name 'df' is not defined"
     ]
    }
   ],
   "source": [
    "access_data(ladder_xp)\n",
    "df.head()"
   ]
  }
 ],
 "metadata": {
  "kernelspec": {
   "display_name": "Python 3",
   "language": "python",
   "name": "python3"
  },
  "language_info": {
   "codemirror_mode": {
    "name": "ipython",
    "version": 3
   },
   "file_extension": ".py",
   "mimetype": "text/x-python",
   "name": "python",
   "nbconvert_exporter": "python",
   "pygments_lexer": "ipython3",
   "version": "3.8.0"
  }
 },
 "nbformat": 4,
 "nbformat_minor": 5
}
