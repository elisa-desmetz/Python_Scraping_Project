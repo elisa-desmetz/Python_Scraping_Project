{
 "cells": [
  {
   "cell_type": "code",
   "execution_count": 14,
   "id": "shaped-lecture",
   "metadata": {},
   "outputs": [],
   "source": [
    "from selenium import webdriver\n",
    "from selenium.webdriver.chrome.service import Service\n",
    "from selenium.webdriver.common.by import By\n",
    "\n",
    "import time"
   ]
  },
  {
   "cell_type": "code",
   "execution_count": 91,
   "id": "critical-nelson",
   "metadata": {},
   "outputs": [],
   "source": [
    "s=Service('./app/static/ressources/chromedriver.exe')\n",
    "\n",
    "## Images won't load in the webdriver to prevent wasting resources\n",
    "option = webdriver.ChromeOptions()\n",
    "chrome_prefs = {}\n",
    "option.experimental_options[\"prefs\"] = chrome_prefs\n",
    "chrome_prefs['profile.default_content_settings'] = {'images': 2}\n",
    "chrome_prefs['profile.managed_default_content_settings'] = {'images': 2}\n",
    "\n",
    "## Variables\n",
    "main_url = 'https://www.dofus.com/fr/mmorpg/communaute/ladder'\n",
    "ladder_xp = {'class_name' : 'ak-section-general',\n",
    "            'filter_id':'servers_222'}\n",
    "ladder_success = {'class_name' : 'ak-section-success',\n",
    "            'filter_id':'servers_222'}\n",
    "ladder_pvp_solo = {'class_name' : 'ak-section-kolizeum',\n",
    "            'filter_id':'type_solo'}\n",
    "ladder_pvp_duel = {'class_name' : 'ak-section-kolizeum',\n",
    "            'filter_id':'type_duel'}"
   ]
  },
  {
   "cell_type": "code",
   "execution_count": 101,
   "id": "educated-hardware",
   "metadata": {},
   "outputs": [],
   "source": [
    "def open_ladder(browser, category):\n",
    "    ## Access main menu URL\n",
    "    browser.get(main_url)\n",
    "    time.sleep(0.5)\n",
    "    close_cookie = browser.find_element(By.CLASS_NAME, \"ak-refuse\").click()\n",
    "    time.sleep(1.5)\n",
    "    access_ladder = browser.find_element(By.CLASS_NAME, category['class_name']).click()\n",
    "    \n",
    "def filter_ladder(browser, category):\n",
    "    filter_server = browser.find_element(By.ID,category['filter_id']).click()\n",
    "        "
   ]
  },
  {
   "cell_type": "code",
   "execution_count": 102,
   "id": "compressed-bahamas",
   "metadata": {},
   "outputs": [],
   "source": [
    "def access_data(category):\n",
    "    ## Open browser in 1920x1080\n",
    "    browser = webdriver.Chrome(service=s, options=option)\n",
    "    browser.set_window_size(1920,1080)\n",
    "    \n",
    "    open_ladder(browser, category)\n",
    "    time.sleep(1.5)\n",
    "    filter_ladder(browser, category)"
   ]
  },
  {
   "cell_type": "code",
   "execution_count": 103,
   "id": "forty-blond",
   "metadata": {},
   "outputs": [],
   "source": [
    "access_data(ladder_xp)"
   ]
  }
 ],
 "metadata": {
  "kernelspec": {
   "display_name": "Python 3",
   "language": "python",
   "name": "python3"
  },
  "language_info": {
   "codemirror_mode": {
    "name": "ipython",
    "version": 3
   },
   "file_extension": ".py",
   "mimetype": "text/x-python",
   "name": "python",
   "nbconvert_exporter": "python",
   "pygments_lexer": "ipython3",
   "version": "3.8.0"
  }
 },
 "nbformat": 4,
 "nbformat_minor": 5
}
